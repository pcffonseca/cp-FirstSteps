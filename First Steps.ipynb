{
 "cells": [
  {
   "cell_type": "markdown",
   "metadata": {},
   "source": [
    "# **** First Steps ****\n"
   ]
  },
  {
   "cell_type": "code",
   "execution_count": null,
   "metadata": {},
   "outputs": [],
   "source": [
    "# run this cell to show a video, use slider to resize it, type Esc-o to hide it\n",
    "from IPython.display import Video, clear_output; from ipywidgets import interactive, IntSlider\n",
    "def _play(resize): display(Video(filename=\"media/ECS780P_FirstSteps_topicSummary.mp4\",data=\"\",width=resize))\n",
    "interactive(_play, resize=IntSlider(min=150, max=900, step=50, value=600, continuous_update=False, readout=False))"
   ]
  },
  {
   "cell_type": "markdown",
   "metadata": {},
   "source": [
    "# How to run Python"
   ]
  },
  {
   "cell_type": "markdown",
   "metadata": {},
   "source": [
    "* You can run python in interactive mode from the command line; just type:\n",
    "<pre><code> python </code></pre>\n",
    "\n",
    "* Python can answer many interesting questions in this modality (i.e. demo). For example you can find out information about Python's function *print* which we showed briefly earlier if you type on the command line:\n",
    "<pre><code> help(print) </code></pre>\n",
    "* When you are done, just type the below to exit:\n",
    "<pre><code> quit() </code></pre>\n",
    "* However, in general, you will want to write a **program**\n",
    "    * the difference between a calculator and a computer is that the latter can sequence operations\n",
    "    * a program is just such a sequence"
   ]
  },
  {
   "cell_type": "markdown",
   "metadata": {},
   "source": [
    "# Hello World! (Your first Python program)"
   ]
  },
  {
   "cell_type": "markdown",
   "metadata": {},
   "source": [
    "* This is a programmer's meme, which is used with every programming language you ever learn.\n",
    "* Your first program looks like this:\n",
    "<pre><code> print(\"Hello World!\") </code></pre>\n",
    "* It needs to be typed in an editor (e.g. *gedit*, Notepad, IDLE).\n",
    "* You have to save it in a suitably named file (e.g. *hello.py*).\n",
    "* You run the program by typing on the command line: \n",
    "<pre><code> python hello.py </code></pre>\n",
    "* Note how this creates the bytecode version (i.e. a file with extension *.pyc*).\n",
    "* The program does \"what it says on the tin\"!"
   ]
  },
  {
   "cell_type": "markdown",
   "metadata": {},
   "source": [
    "### So why aren't we learning Java?"
   ]
  },
  {
   "cell_type": "markdown",
   "metadata": {},
   "source": [
    "* In Java, a program with the same functionality would look like this (and would necessarily have to be saved in a file called *Hello.java*):\n",
    "<pre><code>public class Hello {\n",
    "    public static void main(String[] args) {\n",
    "        System.out.println(\"Hello, World!\");\n",
    "    }\n",
    "}</code></pre>\n",
    "* You would compile it this way, from the command line:\n",
    "<pre><code> javac Hello.java </code></pre>\n",
    "* And run it this way, again on the comand line:\n",
    "<pre><code> java Hello </code></pre>\n",
    "* There are reasons for that, but as far as you are concerned, that's overkill."
   ]
  },
  {
   "cell_type": "markdown",
   "metadata": {},
   "source": [
    "# But what are these *strange* web pages we are using?"
   ]
  },
  {
   "cell_type": "markdown",
   "metadata": {},
   "source": [
    "* This is actually what is known as a [Jupyter Notebook](https://jupyter.org/)."
   ]
  },
  {
   "cell_type": "code",
   "execution_count": null,
   "metadata": {},
   "outputs": [],
   "source": [
    "print(\"Hello World!\")"
   ]
  },
  {
   "cell_type": "markdown",
   "metadata": {},
   "source": [
    "* It is pretty cool because:\n",
    "    * You can mix notes and code.\n",
    "    * It is available \"in the lab\".\n",
    "    * However it is recommended you install this on your computer (see https://jupyter.org/install); Linux not required.\n",
    "    * You can modify or experiment with these notes live in the class.\n",
    "    * You can insert your own examples and annotations.\n",
    "    * Lab exercises will be Jupyter Notebooks.\n",
    "    * Helps you document your work.\n",
    "    * Great for working with colleagues afterwards, though not practical for larger chunks of code ...\n",
    "    * You can mix and match as you like:"
   ]
  },
  {
   "cell_type": "code",
   "execution_count": null,
   "metadata": {},
   "outputs": [],
   "source": [
    "%run hello.py"
   ]
  },
  {
   "cell_type": "code",
   "execution_count": null,
   "metadata": {},
   "outputs": [],
   "source": [
    "# run this cell to show a video, use slider to resize it, type Esc-o to hide it\n",
    "from IPython.display import Video, clear_output; from ipywidgets import interactive, IntSlider\n",
    "def _play(resize): display(Video(filename=\"media/ECS780P_FirstSteps_HelloWorldAndNotebooks.mp4\",data=\"\",width=resize))\n",
    "interactive(_play, resize=IntSlider(min=150, max=900, step=50, value=600, continuous_update=False, readout=False))"
   ]
  },
  {
   "cell_type": "markdown",
   "metadata": {},
   "source": [
    "... and as some might say, \"there's more to life than PowerPoint\"!"
   ]
  },
  {
   "cell_type": "markdown",
   "metadata": {},
   "source": [
    "# Arithmetic operations"
   ]
  },
  {
   "cell_type": "markdown",
   "metadata": {},
   "source": [
    "We can use Python to perform standard arithmetic operations:\n",
    "\n",
    "| **Operator**   | **Description**     |\n",
    "|----------------|---------------------|\n",
    "|      +         | Addition            |\n",
    "|      -         | Subtraction         |\n",
    "|      *         | Multiplication      |\n",
    "|      /         | Division            |\n",
    "|      \\*\\*      | Exponentiation      |\n",
    "|      %         | Modulus (remainder) |"
   ]
  },
  {
   "cell_type": "code",
   "execution_count": null,
   "metadata": {},
   "outputs": [],
   "source": [
    "1+1"
   ]
  },
  {
   "cell_type": "markdown",
   "metadata": {},
   "source": [
    "* Note the difference between integer operations and floating point operations:\n",
    "    * try 3/2\n",
    "    * now try 3.0/2.0\n",
    "* Precedence follows the standard arithmetic conventions:\n",
    "    * try 1+3\\*2\n",
    "* Exponentiation has the highest precedence, followed by multiplication and division, and then addition and subtraction.\n",
    "* Parentheses can (and should) be used as needed:\n",
    "    * try (1+3)\\*2\n",
    "* A handy reference to arithmetic operations can be found here:\n",
    "http://www.tutorialspoint.com/python/python_basic_operators.htm"
   ]
  },
  {
   "cell_type": "markdown",
   "metadata": {},
   "source": [
    "# Variables"
   ]
  },
  {
   "cell_type": "markdown",
   "metadata": {},
   "source": [
    "We can assign values to symbols using the assignment operator **=**; below is an example:"
   ]
  },
  {
   "cell_type": "code",
   "execution_count": null,
   "metadata": {},
   "outputs": [],
   "source": [
    "a = 2\n",
    "b = 3\n",
    "print(a+b)"
   ]
  },
  {
   "cell_type": "markdown",
   "metadata": {},
   "source": [
    "**a** and **b** in the example above are **variables**.\n",
    "Note that **=** is an **assignment**, so that the following makes perfect sense:"
   ]
  },
  {
   "cell_type": "code",
   "execution_count": null,
   "metadata": {},
   "outputs": [],
   "source": [
    "a = 3\n",
    "print(a)\n",
    "a = a+1\n",
    "print(a)"
   ]
  },
  {
   "cell_type": "markdown",
   "metadata": {},
   "source": [
    "**a=a+1** is called an **increment** operation. It is so common that a special notation exists for it:"
   ]
  },
  {
   "cell_type": "code",
   "execution_count": null,
   "metadata": {},
   "outputs": [],
   "source": [
    "a = 3\n",
    "a += 1 \n",
    "print(a)"
   ]
  },
  {
   "cell_type": "markdown",
   "metadata": {},
   "source": [
    "Guess what the statement **a -= 1** does ..."
   ]
  },
  {
   "cell_type": "markdown",
   "metadata": {},
   "source": [
    "It *always* makes a lot of sense to use meaningful variable names (especially when writing large, complex programs):"
   ]
  },
  {
   "cell_type": "code",
   "execution_count": null,
   "metadata": {},
   "outputs": [],
   "source": [
    "mass = 49.5 # in Kgs\n",
    "height = 1.56 # in meters\n",
    "bmi = mass/height**2\n",
    "print(bmi)"
   ]
  },
  {
   "cell_type": "markdown",
   "metadata": {},
   "source": [
    "Note that the two strings\n",
    "``` \n",
    "# in Kg \n",
    "```\n",
    "and \n",
    "``` \n",
    "# in metres\n",
    "```\n",
    "above are there for your benefit, not for the interpreter. They are **comments** and Python ignores them when running code. \n",
    "They can come after instructions or on a line (or lines) of their own. Use liberally."
   ]
  },
  {
   "cell_type": "code",
   "execution_count": null,
   "metadata": {},
   "outputs": [],
   "source": [
    "# run this cell to show a video, use slider to resize it, type Esc-o to hide it\n",
    "from IPython.display import Video, clear_output; from ipywidgets import interactive, IntSlider\n",
    "def _play(resize): display(Video(filename=\"media/ECS780P_FirsSteos_ArithOpsAndVariables.mp4\",data=\"\",width=resize))\n",
    "interactive(_play, resize=IntSlider(min=150, max=900, step=50, value=600, continuous_update=False, readout=False))"
   ]
  },
  {
   "cell_type": "markdown",
   "metadata": {},
   "source": [
    "# Data types"
   ]
  },
  {
   "cell_type": "markdown",
   "metadata": {},
   "source": [
    "* Integers such as 2 and floats such as 3.5 represent two different **data types** in Pyhton. This means that the bit patterns involved at the level of the memory are interpreted in different ways.\n",
    "* Another basic data type is a **character string**:\n",
    "    * \"Hello World!\" was a string\n",
    "    * 'This is another Python string'\n",
    "    * Strings can span multiple lines:\n",
    "        ```\n",
    "        \"\"\"This is a Python string\n",
    "        on multiple lines\"\"\"\n",
    "        ```\n",
    "    * Strings spanning multiple lines can be used anywhere as a comment.\n",
    "* Strings can also be assigned to variables, as in the example below:"
   ]
  },
  {
   "cell_type": "code",
   "execution_count": null,
   "metadata": {},
   "outputs": [],
   "source": [
    "greeting = 'Hello World!'\n",
    "print(greeting)\n",
    "# print('Hello World!')"
   ]
  },
  {
   "cell_type": "markdown",
   "metadata": {},
   "source": [
    "Operators work in different ways on different types of data (obviously, not all operators apply to all data types); look at the examples below:"
   ]
  },
  {
   "cell_type": "code",
   "execution_count": null,
   "metadata": {},
   "outputs": [],
   "source": [
    "print(2+2)\n",
    "print(\"Hello \" + \"World!\")\n",
    "print(2*3)\n",
    "print(\"Ho! \" *3)"
   ]
  },
  {
   "cell_type": "markdown",
   "metadata": {},
   "source": [
    "There is more to this than \"meets the eye\":"
   ]
  },
  {
   "cell_type": "code",
   "execution_count": null,
   "metadata": {},
   "outputs": [],
   "source": [
    "a = 2\n",
    "b = 3\n",
    "print(a+b)\n",
    "a = \"Sp\"\n",
    "b = \"am\"\n",
    "print(a+b)"
   ]
  },
  {
   "cell_type": "markdown",
   "metadata": {},
   "source": [
    "So how does the Python interpreter know what operator should be applied in each case?\n",
    "* Python is implicilty typed, but strongly typed.\n",
    "* **Implicitly typed** means you do not have to write, e.g.\n",
    "```\n",
    "int num=3;\n",
    "String name=\"John\";\n",
    "```\n",
    "as you would need to in Java.\n",
    "* However, each Python variable knows its type:"
   ]
  },
  {
   "cell_type": "code",
   "execution_count": null,
   "metadata": {},
   "outputs": [],
   "source": [
    "a = 2\n",
    "type(a)\n",
    "a = 2.5\n",
    "type(a)\n",
    "a = \"Monty\"\n",
    "type(a)"
   ]
  },
  {
   "cell_type": "markdown",
   "metadata": {},
   "source": [
    "You can generally trust Python \"to do the right thing\" with your data. There are a few pitfalls, that will become apparent later on."
   ]
  },
  {
   "cell_type": "markdown",
   "metadata": {},
   "source": [
    "# Obtaining user input"
   ]
  },
  {
   "cell_type": "markdown",
   "metadata": {},
   "source": [
    "A string of data from the user can be obtained via the ```input()``` function:"
   ]
  },
  {
   "cell_type": "code",
   "execution_count": null,
   "metadata": {},
   "outputs": [],
   "source": [
    "name = input(\"What's your name? \")\n",
    "print(\"Hello \" + name)"
   ]
  },
  {
   "cell_type": "markdown",
   "metadata": {},
   "source": [
    "Note that the ```input()``` function returns a string: "
   ]
  },
  {
   "cell_type": "code",
   "execution_count": null,
   "metadata": {},
   "outputs": [],
   "source": [
    "age = input(\"What's your age? \")\n",
    "size = input(\"What's your shoe size? \")\n",
    "ratio = float(age)/float(size)\n",
    "print(\"Your age to shoe size ratio is: \", ratio)"
   ]
  },
  {
   "cell_type": "markdown",
   "metadata": {},
   "source": [
    "### The Body Mass Index example revisited:"
   ]
  },
  {
   "cell_type": "code",
   "execution_count": null,
   "metadata": {},
   "outputs": [],
   "source": [
    "# in class - including user input"
   ]
  },
  {
   "cell_type": "code",
   "execution_count": null,
   "metadata": {},
   "outputs": [],
   "source": [
    "# run this cell to show a video, use slider to resize it, type Esc-o to hide it\n",
    "from IPython.display import Video, clear_output; from ipywidgets import interactive, IntSlider\n",
    "def _play(resize): display(Video(filename=\"media/ECS780P_FirstSteps_DataTypesAndUserInput.mp4\",data=\"\",width=resize))\n",
    "interactive(_play, resize=IntSlider(min=150, max=900, step=50, value=600, continuous_update=False, readout=False))"
   ]
  },
  {
   "cell_type": "markdown",
   "metadata": {},
   "source": [
    "# Advanced operations on strings"
   ]
  },
  {
   "cell_type": "markdown",
   "metadata": {},
   "source": [
    "Here are a few useful string manipulation operations. The syntax of some of these may look funny - these are actually **methods**. They are appended to the string name (or to the string itself) using a dot. This will make a bit more sense later in the course, but you can use them freely in the meantime."
   ]
  },
  {
   "cell_type": "markdown",
   "metadata": {},
   "source": [
    "##### Length of a string --- ```len()```"
   ]
  },
  {
   "cell_type": "code",
   "execution_count": null,
   "metadata": {},
   "outputs": [],
   "source": [
    "a = \"STEM\"\n",
    "print(len(a))"
   ]
  },
  {
   "cell_type": "markdown",
   "metadata": {},
   "source": [
    "##### To uppercase/lowercase --- ```upper()```  and ```lower()```"
   ]
  },
  {
   "cell_type": "code",
   "execution_count": null,
   "metadata": {},
   "outputs": [],
   "source": [
    "a = \"StEm\"\n",
    "print(a.upper())\n",
    "print(a.lower())\n",
    "print(a) # the original string is unchanged!\n",
    "print(\"STEM\".lower()) # also OK"
   ]
  },
  {
   "cell_type": "markdown",
   "metadata": {},
   "source": [
    "##### Replacing a substring --- ```replace()```"
   ]
  },
  {
   "cell_type": "markdown",
   "metadata": {},
   "source": [
    "Find out how to use the method **replace()**:"
   ]
  },
  {
   "cell_type": "code",
   "execution_count": null,
   "metadata": {},
   "outputs": [],
   "source": [
    "help(str.replace)"
   ]
  },
  {
   "cell_type": "code",
   "execution_count": null,
   "metadata": {},
   "outputs": [],
   "source": [
    "textSequence = \"Goose\"\n",
    "modifiedSequence = textSequence.replace('o','e')\n",
    "print(modifiedSequence)"
   ]
  },
  {
   "cell_type": "markdown",
   "metadata": {},
   "source": [
    "##### Other operations:"
   ]
  },
  {
   "cell_type": "markdown",
   "metadata": {},
   "source": [
    "Here are a few more useful methods and how to find information about them:"
   ]
  },
  {
   "cell_type": "code",
   "execution_count": null,
   "metadata": {},
   "outputs": [],
   "source": [
    "help(str.count)\n",
    "help(str.find)\n",
    "help(str.index)\n",
    "help(str.split) # produces a list ... more about this later\n",
    "help(str.join)  # uses a list ... more about this later"
   ]
  },
  {
   "cell_type": "code",
   "execution_count": null,
   "metadata": {},
   "outputs": [],
   "source": [
    "# run this cell to show a video, use slider to resize it, type Esc-o to hide it\n",
    "from IPython.display import Video, clear_output; from ipywidgets import interactive, IntSlider\n",
    "def _play(resize): display(Video(filename=\"media/ECS780P_FirstSteps_StringAdvancedOps.mp4\",data=\"\",width=resize))\n",
    "interactive(_play, resize=IntSlider(min=150, max=900, step=50, value=600, continuous_update=False, readout=False))"
   ]
  }
 ],
 "metadata": {
  "kernelspec": {
   "display_name": "Python 3",
   "language": "python",
   "name": "python3"
  },
  "language_info": {
   "codemirror_mode": {
    "name": "ipython",
    "version": 3
   },
   "file_extension": ".py",
   "mimetype": "text/x-python",
   "name": "python",
   "nbconvert_exporter": "python",
   "pygments_lexer": "ipython3",
   "version": "3.6.8"
  }
 },
 "nbformat": 4,
 "nbformat_minor": 1
}
