{
 "cells": [
  {
   "cell_type": "markdown",
   "metadata": {},
   "source": [
    "##  Lab: First Steps\n"
   ]
  },
  {
   "cell_type": "markdown",
   "metadata": {},
   "source": [
    "**Learning Objectives**\n",
    "* To become familiar with the Python programming environment, including how to easily find information about a function.\n",
    "* To write and run simple programs written in the Python language.\n",
    "* To use the functions ```print()``` and ```input()```, declare and use variables, use arithmetic operators, define/use/operate on simple strings.  \n",
    "\n",
    "**General note about the exercises**\n",
    "* You should attempt the exercises below by using *only* the Python constructs that you learnt up to the end of topics **Introduction** and **First Steps**.\n",
    "* Spend a few minutes before you write code, to think about how to structure your proposed solution.\n",
    "* Add comments to your code.\n",
    "* Make your code neat, by using indentation and parentheses (where appropriate).\n",
    "* Give meaningful names to functions and variables."
   ]
  },
  {
   "cell_type": "markdown",
   "metadata": {},
   "source": [
    "###  1- Hello World"
   ]
  },
  {
   "cell_type": "markdown",
   "metadata": {},
   "source": [
    "Write a program that prints the text \"Hello World\". If possible, don't use the Jupyter Notebook:\n",
    "* Use an editor environemt such as **IDLE** (Python's Integrated Development and Learning Environment). \n",
    "* Create a file called **hello.py**.\n",
    "* Write the necessary code inside and save the file.\n",
    "* Run the code from the command line by typing in: ```python hello.py```\n",
    "* Watch the result ecstatically! :-)"
   ]
  },
  {
   "cell_type": "markdown",
   "metadata": {},
   "source": [
    "### 2 - Proof of residence"
   ]
  },
  {
   "cell_type": "markdown",
   "metadata": {},
   "source": [
    "Modify your program above (and save it to a different file), so that it prints your name and address as you would on an envelope."
   ]
  },
  {
   "cell_type": "markdown",
   "metadata": {},
   "source": [
    "### 3 - The \"tech insult\" one "
   ]
  },
  {
   "cell_type": "markdown",
   "metadata": {},
   "source": [
    "Write a program that asks for your name; when it is run, the program displays back your name together with a tech-related insult of your choosing."
   ]
  },
  {
   "cell_type": "markdown",
   "metadata": {},
   "source": [
    "### 4 - Star Trek"
   ]
  },
  {
   "cell_type": "markdown",
   "metadata": {},
   "source": [
    "Write a program that asks you for a speed in **km/h** and converts it to **furlongs/fortnight** (see https://en.wikipedia.org/wiki/FFF_system#Furlongs_per_fortnight). Use it to convert (and then display) the speed in furlongs/fortnight."
   ]
  },
  {
   "cell_type": "markdown",
   "metadata": {},
   "source": [
    "### 5 - The real deal"
   ]
  },
  {
   "cell_type": "markdown",
   "metadata": {},
   "source": [
    "Write a program that asks for the length and width of your average studio \"shoebox\" apartment in metres. Multiply the area by 19500 to obtain its price in Kensington, in pounds. Store in a variable and print the result including units. \n",
    "\n",
    "Multiply the average UK salary of £26500 by 0.75 to deduce taxes. Divide the price by the net salary to obtain the number of man-years it takes the average person to pay for the average \"shoebox\" apartment.  \n",
    "\n",
    "Print all results including units. Use meaningful variable names for all the parameters (salary, cost per square metres). Include comments in the code."
   ]
  },
  {
   "cell_type": "markdown",
   "metadata": {},
   "source": [
    "### 6 - Happy birthday"
   ]
  },
  {
   "cell_type": "markdown",
   "metadata": {},
   "source": [
    "Now for something a bit more cheerful: write a program that asks you for your age and prints \"Happy Birthday!\" once for each year.\n",
    "\n",
    "**Hint**: Use the * operator on a string to do that."
   ]
  },
  {
   "cell_type": "markdown",
   "metadata": {},
   "source": [
    "### 7 - Operator madness"
   ]
  },
  {
   "cell_type": "markdown",
   "metadata": {},
   "source": [
    "Look up Python operators here:\n",
    "http://www.tutorialspoint.com/python/python_basic_operators.htm\n",
    "\n",
    "Try out all (or as many as possible) Arithmetic, Comparison, and Assignment operators in the box below. Feel free to define variables, create more boxes, write down notes and ask questions. **Remember** to save this Jupyter Notebook when you are done."
   ]
  },
  {
   "cell_type": "code",
   "execution_count": null,
   "metadata": {},
   "outputs": [],
   "source": []
  },
  {
   "cell_type": "markdown",
   "metadata": {},
   "source": [
    "### 8 - Making changes"
   ]
  },
  {
   "cell_type": "markdown",
   "metadata": {},
   "source": [
    "Write a program that replaces all occurences of 'e' with 'X' in a text sequence, making sure that it works regardless of the string being uppercase or lowercase and always outputs an uppercase string.\n",
    "\n",
    "**Hint**: To obtain help on e.g., method ```str.replace()```, type ```help(str.replace)``` in the cell below. Typing ```dir(str)``` will list all methods.\n",
    "\n",
    "**Bonus**: How would you change the program so that it works with any input string?"
   ]
  },
  {
   "cell_type": "code",
   "execution_count": null,
   "metadata": {},
   "outputs": [],
   "source": []
  },
  {
   "cell_type": "markdown",
   "metadata": {},
   "source": [
    "### 9 - Splitting 'hairs'"
   ]
  },
  {
   "cell_type": "markdown",
   "metadata": {},
   "source": [
    "This is stretching it a bit, but there is a way of breaking a text sequence into its individual words. Write a program that asks you for a text sequence and outputs all the words in the sequence.\n",
    "\n",
    "**Hint**: Look up the ```str.split()``` method.\n",
    "\n",
    "**Food for thought**: What does the program's output look like (and/or what does it make you think of)?"
   ]
  },
  {
   "cell_type": "code",
   "execution_count": null,
   "metadata": {},
   "outputs": [],
   "source": []
  }
 ],
 "metadata": {
  "kernelspec": {
   "display_name": "Python 3",
   "language": "python",
   "name": "python3"
  },
  "language_info": {
   "codemirror_mode": {
    "name": "ipython",
    "version": 3
   },
   "file_extension": ".py",
   "mimetype": "text/x-python",
   "name": "python",
   "nbconvert_exporter": "python",
   "pygments_lexer": "ipython3",
   "version": "3.6.8"
  }
 },
 "nbformat": 4,
 "nbformat_minor": 1
}
